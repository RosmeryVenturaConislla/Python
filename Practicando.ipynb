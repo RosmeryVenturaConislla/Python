{
  "nbformat": 4,
  "nbformat_minor": 0,
  "metadata": {
    "colab": {
      "provenance": [],
      "authorship_tag": "ABX9TyNE5GdCJAD8Fn2UgTbfl6SJ",
      "include_colab_link": true
    },
    "kernelspec": {
      "name": "python3",
      "display_name": "Python 3"
    },
    "language_info": {
      "name": "python"
    }
  },
  "cells": [
    {
      "cell_type": "markdown",
      "metadata": {
        "id": "view-in-github",
        "colab_type": "text"
      },
      "source": [
        "<a href=\"https://colab.research.google.com/github/RosmeryVenturaConislla/Python/blob/main/Practicando.ipynb\" target=\"_parent\"><img src=\"https://colab.research.google.com/assets/colab-badge.svg\" alt=\"Open In Colab\"/></a>"
      ]
    },
    {
      "cell_type": "code",
      "execution_count": null,
      "metadata": {
        "id": "DaN-Pm_EnPwP"
      },
      "outputs": [],
      "source": [
        "Countries = ['EEUU', 'Perú', 'China', 'Bazil']\n"
      ]
    },
    {
      "cell_type": "code",
      "source": [
        "Countries\n"
      ],
      "metadata": {
        "colab": {
          "base_uri": "https://localhost:8080/"
        },
        "id": "kFQ3vwjppYGj",
        "outputId": "46613af4-3c58-4fe7-fee4-e276a220e147"
      },
      "execution_count": null,
      "outputs": [
        {
          "output_type": "execute_result",
          "data": {
            "text/plain": [
              "['EEUU', 'Perú', 'China', 'Bazil']"
            ]
          },
          "metadata": {},
          "execution_count": 2
        }
      ]
    },
    {
      "cell_type": "code",
      "source": [
        "Countries.pop(0)"
      ],
      "metadata": {
        "colab": {
          "base_uri": "https://localhost:8080/",
          "height": 35
        },
        "id": "uUieOCD4pbZ3",
        "outputId": "6a41e853-00b6-4037-a299-e904a0c365f9"
      },
      "execution_count": null,
      "outputs": [
        {
          "output_type": "execute_result",
          "data": {
            "text/plain": [
              "'EEUU'"
            ],
            "application/vnd.google.colaboratory.intrinsic+json": {
              "type": "string"
            }
          },
          "metadata": {},
          "execution_count": 3
        }
      ]
    },
    {
      "cell_type": "code",
      "source": [
        "Countries"
      ],
      "metadata": {
        "colab": {
          "base_uri": "https://localhost:8080/"
        },
        "id": "W1JM6_1jwSxO",
        "outputId": "8203230f-acd4-4610-a6ee-472186151981"
      },
      "execution_count": null,
      "outputs": [
        {
          "output_type": "execute_result",
          "data": {
            "text/plain": [
              "['Perú', 'China', 'Bazil']"
            ]
          },
          "metadata": {},
          "execution_count": 4
        }
      ]
    },
    {
      "cell_type": "code",
      "source": [
        "del Countries[2]"
      ],
      "metadata": {
        "id": "VuHrFdYewWpL"
      },
      "execution_count": null,
      "outputs": []
    },
    {
      "cell_type": "code",
      "source": [
        "Countries\n"
      ],
      "metadata": {
        "colab": {
          "base_uri": "https://localhost:8080/"
        },
        "id": "a5cg6znewnEl",
        "outputId": "41ad5a01-3177-49c1-bd8c-7d420578d774"
      },
      "execution_count": null,
      "outputs": [
        {
          "output_type": "execute_result",
          "data": {
            "text/plain": [
              "['Perú', 'China']"
            ]
          },
          "metadata": {},
          "execution_count": 6
        }
      ]
    },
    {
      "cell_type": "markdown",
      "source": [
        "**Ordenar una Lista**"
      ],
      "metadata": {
        "id": "Gct2wqhuwrTw"
      }
    },
    {
      "cell_type": "code",
      "source": [
        "Numbers =[0,4,2,8,9,10,20,245,23]"
      ],
      "metadata": {
        "id": "m-ADS7Icw18z"
      },
      "execution_count": null,
      "outputs": []
    },
    {
      "cell_type": "code",
      "source": [
        "Numbers.sort()"
      ],
      "metadata": {
        "id": "o6StMifFw88Q"
      },
      "execution_count": null,
      "outputs": []
    },
    {
      "cell_type": "code",
      "source": [
        "Numbers"
      ],
      "metadata": {
        "colab": {
          "base_uri": "https://localhost:8080/"
        },
        "id": "b2aUld8cxCa8",
        "outputId": "d1fd3b95-a769-4a5a-b86e-21d1c08bb91b"
      },
      "execution_count": null,
      "outputs": [
        {
          "output_type": "execute_result",
          "data": {
            "text/plain": [
              "[0, 2, 4, 8, 9, 10, 20, 23, 245]"
            ]
          },
          "metadata": {},
          "execution_count": 10
        }
      ]
    },
    {
      "cell_type": "code",
      "source": [
        "Numbers.sort(reverse=True)"
      ],
      "metadata": {
        "id": "OaMWN4_gxEdA"
      },
      "execution_count": null,
      "outputs": []
    },
    {
      "cell_type": "code",
      "source": [
        "Numbers"
      ],
      "metadata": {
        "colab": {
          "base_uri": "https://localhost:8080/"
        },
        "id": "C6uu0RbkxRaQ",
        "outputId": "203b6531-e80c-438d-d6c9-095be3136e90"
      },
      "execution_count": null,
      "outputs": [
        {
          "output_type": "execute_result",
          "data": {
            "text/plain": [
              "[245, 23, 20, 10, 9, 8, 4, 2, 0]"
            ]
          },
          "metadata": {},
          "execution_count": 12
        }
      ]
    },
    {
      "cell_type": "code",
      "source": [
        "Numbers.pop(2)"
      ],
      "metadata": {
        "colab": {
          "base_uri": "https://localhost:8080/"
        },
        "id": "TLzMO-WDxTCv",
        "outputId": "d9534d38-4e98-40b1-882e-bd05a518097a"
      },
      "execution_count": null,
      "outputs": [
        {
          "output_type": "execute_result",
          "data": {
            "text/plain": [
              "20"
            ]
          },
          "metadata": {},
          "execution_count": 13
        }
      ]
    },
    {
      "cell_type": "code",
      "source": [
        "Numbers[0] =100"
      ],
      "metadata": {
        "id": "PtxHbPfPxZAO"
      },
      "execution_count": null,
      "outputs": []
    },
    {
      "cell_type": "code",
      "source": [
        "Numbers\n"
      ],
      "metadata": {
        "colab": {
          "base_uri": "https://localhost:8080/"
        },
        "id": "9Rw2gfLJxi5z",
        "outputId": "e0321359-fdb5-4d71-f04c-f8ea9888f8e2"
      },
      "execution_count": null,
      "outputs": [
        {
          "output_type": "execute_result",
          "data": {
            "text/plain": [
              "[100, 23, 10, 9, 8, 4, 2, 0]"
            ]
          },
          "metadata": {},
          "execution_count": 16
        }
      ]
    },
    {
      "cell_type": "markdown",
      "source": [
        "**Copiar una lista **"
      ],
      "metadata": {
        "id": "xB4ymsxtxqiq"
      }
    },
    {
      "cell_type": "code",
      "source": [
        "Copia = Countries.copy()"
      ],
      "metadata": {
        "id": "-di6f92-xuNq"
      },
      "execution_count": null,
      "outputs": []
    },
    {
      "cell_type": "code",
      "source": [
        "Copia"
      ],
      "metadata": {
        "colab": {
          "base_uri": "https://localhost:8080/"
        },
        "id": "dufyZbHRx_2V",
        "outputId": "391d9f47-962d-4158-9999-ecb06be75e60"
      },
      "execution_count": null,
      "outputs": [
        {
          "output_type": "execute_result",
          "data": {
            "text/plain": [
              "['Perú', 'China']"
            ]
          },
          "metadata": {},
          "execution_count": 18
        }
      ]
    },
    {
      "cell_type": "code",
      "source": [
        "Copia2 = Countries[:]"
      ],
      "metadata": {
        "id": "Oln2RKBbyBvS"
      },
      "execution_count": null,
      "outputs": []
    },
    {
      "cell_type": "code",
      "source": [
        "Copia2"
      ],
      "metadata": {
        "colab": {
          "base_uri": "https://localhost:8080/"
        },
        "id": "c3AoXAPeyIw_",
        "outputId": "579f6a93-15fa-497e-f5d6-6bf93cd8064a"
      },
      "execution_count": null,
      "outputs": [
        {
          "output_type": "execute_result",
          "data": {
            "text/plain": [
              "['Perú', 'China']"
            ]
          },
          "metadata": {},
          "execution_count": 23
        }
      ]
    },
    {
      "cell_type": "markdown",
      "source": [
        "**Diccionarios**"
      ],
      "metadata": {
        "id": "Jtfl8pSiQyaM"
      }
    },
    {
      "cell_type": "code",
      "source": [
        "Mi_diccionario_Syntax  = {'Key1': 'Value', 'Key2':'Value2'}"
      ],
      "metadata": {
        "id": "jS4VWG2BQ6VB"
      },
      "execution_count": null,
      "outputs": []
    },
    {
      "cell_type": "code",
      "source": [
        "Mi_diccionario = {'Nombre': 'Rosmery', 'Edad':'25'}"
      ],
      "metadata": {
        "id": "rIgJwM25RLy6"
      },
      "execution_count": null,
      "outputs": []
    },
    {
      "cell_type": "code",
      "source": [
        "Mi_diccionario"
      ],
      "metadata": {
        "colab": {
          "base_uri": "https://localhost:8080/"
        },
        "id": "5_MOH3iERkpv",
        "outputId": "9fe24a96-982d-4e11-be7f-bf20d3a537fb"
      },
      "execution_count": null,
      "outputs": [
        {
          "output_type": "execute_result",
          "data": {
            "text/plain": [
              "{'Nombre': 'Rosmery', 'Edad': '25'}"
            ]
          },
          "metadata": {},
          "execution_count": 25
        }
      ]
    },
    {
      "cell_type": "code",
      "source": [
        "Mi_diccionario['Nombre']"
      ],
      "metadata": {
        "colab": {
          "base_uri": "https://localhost:8080/",
          "height": 35
        },
        "id": "HVbqookARn5f",
        "outputId": "20a3c797-6a5f-4bd6-8b41-3630738a0150"
      },
      "execution_count": null,
      "outputs": [
        {
          "output_type": "execute_result",
          "data": {
            "text/plain": [
              "'Rosmery'"
            ],
            "application/vnd.google.colaboratory.intrinsic+json": {
              "type": "string"
            }
          },
          "metadata": {},
          "execution_count": 26
        }
      ]
    },
    {
      "cell_type": "code",
      "source": [
        "Mi_diccionario.keys()"
      ],
      "metadata": {
        "colab": {
          "base_uri": "https://localhost:8080/"
        },
        "id": "KLtH7bdaRvl8",
        "outputId": "2a980cfd-ef05-4286-938c-68b1a87894cf"
      },
      "execution_count": null,
      "outputs": [
        {
          "output_type": "execute_result",
          "data": {
            "text/plain": [
              "dict_keys(['Nombre', 'Edad'])"
            ]
          },
          "metadata": {},
          "execution_count": 27
        }
      ]
    },
    {
      "cell_type": "code",
      "source": [
        "Mi_diccionario.values()"
      ],
      "metadata": {
        "colab": {
          "base_uri": "https://localhost:8080/"
        },
        "id": "0hKG8onsR587",
        "outputId": "8f57d12f-f051-4add-d7f3-e4574af2e10c"
      },
      "execution_count": null,
      "outputs": [
        {
          "output_type": "execute_result",
          "data": {
            "text/plain": [
              "dict_values(['Rosmery', '25'])"
            ]
          },
          "metadata": {},
          "execution_count": 28
        }
      ]
    },
    {
      "cell_type": "code",
      "source": [
        "Mi_diccionario.items()"
      ],
      "metadata": {
        "colab": {
          "base_uri": "https://localhost:8080/"
        },
        "id": "bt2pwOhcSCue",
        "outputId": "c9c10b0b-552e-44b1-f730-d91917e9ac94"
      },
      "execution_count": null,
      "outputs": [
        {
          "output_type": "execute_result",
          "data": {
            "text/plain": [
              "dict_items([('Nombre', 'Rosmery'), ('Edad', '25')])"
            ]
          },
          "metadata": {},
          "execution_count": 29
        }
      ]
    },
    {
      "cell_type": "markdown",
      "source": [
        "**Agregar o Actualizar elementos**"
      ],
      "metadata": {
        "id": "n30hXhMoSVBT"
      }
    },
    {
      "cell_type": "code",
      "source": [
        "Mi_diccionario = {'Nombre': 'Rosmery', 'Edad':'25'}"
      ],
      "metadata": {
        "id": "5vZtWJPXSflL"
      },
      "execution_count": 33,
      "outputs": []
    },
    {
      "cell_type": "code",
      "source": [
        "Mi_diccionario['Estatura'] = 1.53"
      ],
      "metadata": {
        "id": "PXOey-QTWC_4"
      },
      "execution_count": 34,
      "outputs": []
    },
    {
      "cell_type": "code",
      "source": [
        "Mi_diccionario"
      ],
      "metadata": {
        "colab": {
          "base_uri": "https://localhost:8080/"
        },
        "id": "hvzI1fLGWOJc",
        "outputId": "ae7f8ec9-35d3-4165-9c2e-4fdfe3e5a1ef"
      },
      "execution_count": 35,
      "outputs": [
        {
          "output_type": "execute_result",
          "data": {
            "text/plain": [
              "{'Nombre': 'Rosmery', 'Edad': '25', 'Estatura': 1.53}"
            ]
          },
          "metadata": {},
          "execution_count": 35
        }
      ]
    },
    {
      "cell_type": "code",
      "source": [
        "Mi_diccionario.update({'Estatura':1.54, 'Idiomas':['Inglés', 'Quechua', 'Español']})"
      ],
      "metadata": {
        "id": "cCMYVVr8WPsr"
      },
      "execution_count": 36,
      "outputs": []
    },
    {
      "cell_type": "code",
      "source": [
        "Mi_diccionario"
      ],
      "metadata": {
        "id": "qWuBsy8LWu4j",
        "colab": {
          "base_uri": "https://localhost:8080/"
        },
        "outputId": "c4f55d2b-b971-4a03-f685-e8d918cfa022"
      },
      "execution_count": 37,
      "outputs": [
        {
          "output_type": "execute_result",
          "data": {
            "text/plain": [
              "{'Nombre': 'Rosmery',\n",
              " 'Edad': '25',\n",
              " 'Estatura': 1.54,\n",
              " 'Idiomas': ['Inglés', 'Quechua', 'Español']}"
            ]
          },
          "metadata": {},
          "execution_count": 37
        }
      ]
    },
    {
      "cell_type": "markdown",
      "source": [
        "**Copiar un diccionario**"
      ],
      "metadata": {
        "id": "7Y5PoB-Jc-V9"
      }
    },
    {
      "cell_type": "code",
      "source": [
        "Nuevo_Diccionario = Mi_diccionario.copy()"
      ],
      "metadata": {
        "id": "KxXZ_U9hdDmc"
      },
      "execution_count": 38,
      "outputs": []
    },
    {
      "cell_type": "code",
      "source": [
        "Nuevo_Diccionario"
      ],
      "metadata": {
        "colab": {
          "base_uri": "https://localhost:8080/"
        },
        "id": "7EjL8JPUdJLW",
        "outputId": "4d4bdbe6-c529-4d44-de60-22b317b9725d"
      },
      "execution_count": 39,
      "outputs": [
        {
          "output_type": "execute_result",
          "data": {
            "text/plain": [
              "{'Nombre': 'Rosmery',\n",
              " 'Edad': '25',\n",
              " 'Estatura': 1.54,\n",
              " 'Idiomas': ['Inglés', 'Quechua', 'Español']}"
            ]
          },
          "metadata": {},
          "execution_count": 39
        }
      ]
    },
    {
      "cell_type": "code",
      "source": [
        "Nuevo_Diccionario.update({'Color favorito':'Blanco'})\n"
      ],
      "metadata": {
        "id": "50mUGV9Idabl"
      },
      "execution_count": 42,
      "outputs": []
    },
    {
      "cell_type": "code",
      "source": [
        "Nuevo_Diccionario"
      ],
      "metadata": {
        "colab": {
          "base_uri": "https://localhost:8080/"
        },
        "id": "K7k0pMibdx0X",
        "outputId": "b62ba664-590b-4131-f06a-afc2d195f62d"
      },
      "execution_count": 43,
      "outputs": [
        {
          "output_type": "execute_result",
          "data": {
            "text/plain": [
              "{'Nombre': 'Rosmery',\n",
              " 'Edad': '25',\n",
              " 'Estatura': 1.54,\n",
              " 'Idiomas': ['Inglés', 'Quechua', 'Español'],\n",
              " 'Color favorito': 'Blanco'}"
            ]
          },
          "metadata": {},
          "execution_count": 43
        }
      ]
    },
    {
      "cell_type": "markdown",
      "source": [
        "**Eliminar Elementos**"
      ],
      "metadata": {
        "id": "brslrqoYeK8W"
      }
    },
    {
      "cell_type": "code",
      "source": [
        "Mi_diccionario"
      ],
      "metadata": {
        "colab": {
          "base_uri": "https://localhost:8080/"
        },
        "id": "Brsn50teeRkm",
        "outputId": "f91263f7-5c29-456b-9d76-41cebe925fb6"
      },
      "execution_count": 44,
      "outputs": [
        {
          "output_type": "execute_result",
          "data": {
            "text/plain": [
              "{'Nombre': 'Rosmery',\n",
              " 'Edad': '25',\n",
              " 'Estatura': 1.54,\n",
              " 'Idiomas': ['Inglés', 'Quechua', 'Español']}"
            ]
          },
          "metadata": {},
          "execution_count": 44
        }
      ]
    },
    {
      "cell_type": "code",
      "source": [
        "Mi_diccionario.pop('Estatura')"
      ],
      "metadata": {
        "colab": {
          "base_uri": "https://localhost:8080/"
        },
        "id": "LkUhVjYPeVmN",
        "outputId": "5e138b5e-6e8d-4d56-e08b-757bbfcad1bf"
      },
      "execution_count": 45,
      "outputs": [
        {
          "output_type": "execute_result",
          "data": {
            "text/plain": [
              "1.54"
            ]
          },
          "metadata": {},
          "execution_count": 45
        }
      ]
    },
    {
      "cell_type": "code",
      "source": [
        "Mi_diccionario"
      ],
      "metadata": {
        "colab": {
          "base_uri": "https://localhost:8080/"
        },
        "id": "bNwewDalecNK",
        "outputId": "e2d26504-8b6f-4cb7-acdd-70eab48f98e8"
      },
      "execution_count": 46,
      "outputs": [
        {
          "output_type": "execute_result",
          "data": {
            "text/plain": [
              "{'Nombre': 'Rosmery',\n",
              " 'Edad': '25',\n",
              " 'Idiomas': ['Inglés', 'Quechua', 'Español']}"
            ]
          },
          "metadata": {},
          "execution_count": 46
        }
      ]
    },
    {
      "cell_type": "code",
      "source": [
        "del Mi_diccionario['Idiomas']"
      ],
      "metadata": {
        "id": "2yvPEug6eeaO"
      },
      "execution_count": 47,
      "outputs": []
    },
    {
      "cell_type": "code",
      "source": [
        "Mi_diccionario"
      ],
      "metadata": {
        "colab": {
          "base_uri": "https://localhost:8080/"
        },
        "id": "5FX0dwG3eq6Q",
        "outputId": "92848c75-a457-4781-a744-09ebef76f91e"
      },
      "execution_count": 48,
      "outputs": [
        {
          "output_type": "execute_result",
          "data": {
            "text/plain": [
              "{'Nombre': 'Rosmery', 'Edad': '25'}"
            ]
          },
          "metadata": {},
          "execution_count": 48
        }
      ]
    },
    {
      "cell_type": "code",
      "source": [
        "Mi_diccionario.clear()"
      ],
      "metadata": {
        "id": "5Q194WnIesj7"
      },
      "execution_count": 51,
      "outputs": []
    },
    {
      "cell_type": "code",
      "source": [
        "Mi_diccionario"
      ],
      "metadata": {
        "colab": {
          "base_uri": "https://localhost:8080/"
        },
        "id": "YMxcNbqgexkt",
        "outputId": "690a1254-9628-450e-90b1-e8e7fd0b4bfb"
      },
      "execution_count": 52,
      "outputs": [
        {
          "output_type": "execute_result",
          "data": {
            "text/plain": [
              "{}"
            ]
          },
          "metadata": {},
          "execution_count": 52
        }
      ]
    },
    {
      "cell_type": "markdown",
      "source": [
        "Condicional **IF**\n",
        "\n",
        "if <Condition>:\n",
        "  <Code>\n",
        "elif <Condition>\n",
        "\n",
        "....\n",
        "\n",
        "else:\n",
        "  <Code>"
      ],
      "metadata": {
        "id": "bM0anHzpjxC5"
      }
    },
    {
      "cell_type": "code",
      "source": [
        "edad = 8\n",
        "\n",
        "if edad >= 18:\n",
        "  print(\"Eres mayor de edad\")\n",
        "else:\n",
        "  print(\"Eres menor de edad\")"
      ],
      "metadata": {
        "colab": {
          "base_uri": "https://localhost:8080/"
        },
        "id": "QpcoiNXzjzml",
        "outputId": "c883efa7-63d9-4152-8ad0-23feae7991d4"
      },
      "execution_count": 59,
      "outputs": [
        {
          "output_type": "stream",
          "name": "stdout",
          "text": [
            "Eres menor de edad\n"
          ]
        }
      ]
    },
    {
      "cell_type": "code",
      "source": [
        "if edad > 18 and edad < 25:\n",
        "  print(\"Estas siendo joven\")\n",
        "elif  edad > 10 and edad < 18:\n",
        "  print(\"Eres adolecente\")\n",
        "else:\n",
        "  print(\"Eres un niño\")"
      ],
      "metadata": {
        "colab": {
          "base_uri": "https://localhost:8080/"
        },
        "id": "bL-YXr2gk1rM",
        "outputId": "cf9ecfc8-e4ae-43d3-f683-8d672baa837f"
      },
      "execution_count": 60,
      "outputs": [
        {
          "output_type": "stream",
          "name": "stdout",
          "text": [
            "Eres un niño\n"
          ]
        }
      ]
    },
    {
      "cell_type": "code",
      "source": [
        "if \"Perú\" in Countries:\n",
        "  print(\"El pais está en la lista Countries\")\n",
        "\n",
        "else:\n",
        "  print(\"El pais no está en la lista Countries\")"
      ],
      "metadata": {
        "colab": {
          "base_uri": "https://localhost:8080/"
        },
        "id": "F_ZQ76TFlkXp",
        "outputId": "8d67208c-83e3-4daf-e38e-12ff9974bf77"
      },
      "execution_count": 64,
      "outputs": [
        {
          "output_type": "stream",
          "name": "stdout",
          "text": [
            "El pais está en Countries\n"
          ]
        }
      ]
    },
    {
      "cell_type": "markdown",
      "source": [
        "**FOR  Loop  (Bucle for)**"
      ],
      "metadata": {
        "id": "y7GBiN8WmUbz"
      }
    },
    {
      "cell_type": "code",
      "source": [],
      "metadata": {
        "id": "AiuTTMiEmbqS"
      },
      "execution_count": null,
      "outputs": []
    }
  ]
}