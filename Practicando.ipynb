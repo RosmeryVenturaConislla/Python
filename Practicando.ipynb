{
  "nbformat": 4,
  "nbformat_minor": 0,
  "metadata": {
    "colab": {
      "provenance": [],
      "authorship_tag": "ABX9TyPDiDGNwyR8WFvdoqBZUnES",
      "include_colab_link": true
    },
    "kernelspec": {
      "name": "python3",
      "display_name": "Python 3"
    },
    "language_info": {
      "name": "python"
    }
  },
  "cells": [
    {
      "cell_type": "markdown",
      "metadata": {
        "id": "view-in-github",
        "colab_type": "text"
      },
      "source": [
        "<a href=\"https://colab.research.google.com/github/RosmeryVenturaConislla/Python/blob/main/Practicando.ipynb\" target=\"_parent\"><img src=\"https://colab.research.google.com/assets/colab-badge.svg\" alt=\"Open In Colab\"/></a>"
      ]
    },
    {
      "cell_type": "code",
      "execution_count": 1,
      "metadata": {
        "id": "DaN-Pm_EnPwP"
      },
      "outputs": [],
      "source": [
        "Countries = ['EEUU', 'Perú', 'China', 'Bazil']\n"
      ]
    },
    {
      "cell_type": "code",
      "source": [
        "Countries\n"
      ],
      "metadata": {
        "colab": {
          "base_uri": "https://localhost:8080/"
        },
        "id": "kFQ3vwjppYGj",
        "outputId": "46613af4-3c58-4fe7-fee4-e276a220e147"
      },
      "execution_count": 2,
      "outputs": [
        {
          "output_type": "execute_result",
          "data": {
            "text/plain": [
              "['EEUU', 'Perú', 'China', 'Bazil']"
            ]
          },
          "metadata": {},
          "execution_count": 2
        }
      ]
    },
    {
      "cell_type": "code",
      "source": [],
      "metadata": {
        "id": "uUieOCD4pbZ3"
      },
      "execution_count": null,
      "outputs": []
    }
  ]
}